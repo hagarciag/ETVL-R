{
 "cells": [
  {
   "cell_type": "markdown",
   "metadata": {},
   "source": [
    "**Recuerde no agregar o quitar celdas en este notebook, ni modificar su tipo. Si lo hace, el sistema automaticamente lo calificará con cero punto cero (0.0)**"
   ]
  },
  {
   "cell_type": "markdown",
   "metadata": {},
   "source": [
    "# Descripción"
   ]
  },
  {
   "cell_type": "markdown",
   "metadata": {},
   "source": [
    "Esta tarea tiene como fin ayudarlo a profundizar sus conocimientos en programación con el lenguaje **R**. En la siguiente celda importaré algunas librerias y leeré algunos archivos por usted."
   ]
  },
  {
   "cell_type": "code",
   "execution_count": null,
   "metadata": {
    "collapsed": false
   },
   "outputs": [],
   "source": [
    "###__test__\ncustomer    <- read.csv('customer'    , stringsAsFactors = FALSE)  \nemployee    <- read.csv('employee'    , stringsAsFactors = FALSE)\nfamily      <- read.csv('family'      , stringsAsFactors = FALSE)\norder2000   <- read.csv('order2000'   , stringsAsFactors = FALSE)\norder2001   <- read.csv('order2001'   , stringsAsFactors = FALSE)\norder2002   <- read.csv('order2002'   , stringsAsFactors = FALSE)\norder2003   <- read.csv('order2003'   , stringsAsFactors = FALSE)\norder2004   <- read.csv('order2004'   , stringsAsFactors = FALSE)\norder2005   <- read.csv('order2005'   , stringsAsFactors = FALSE)\norder2006   <- read.csv('order2006'   , stringsAsFactors = FALSE)\norder2007   <- read.csv('order2007'   , stringsAsFactors = FALSE)\norder2008   <- read.csv('order2008'   , stringsAsFactors = FALSE)\norder2009   <- read.csv('order2009'   , stringsAsFactors = FALSE)\norder2010   <- read.csv('order2010'   , stringsAsFactors = FALSE)\norder2011   <- read.csv('order2011'   , stringsAsFactors = FALSE)\norder2012   <- read.csv('order2012'   , stringsAsFactors = FALSE)\norder2013   <- read.csv('order2013'   , stringsAsFactors = FALSE)\norder2014   <- read.csv('order2014'   , stringsAsFactors = FALSE)\norder2015   <- read.csv('order2015'   , stringsAsFactors = FALSE)\norder2016   <- read.csv('order2016'   , stringsAsFactors = FALSE)\norderdetail <- read.csv('orderdetail' , stringsAsFactors = FALSE)\nproduct     <- read.csv('product'     , stringsAsFactors = FALSE)\nsupplier    <- read.csv('supplier'    , stringsAsFactors = FALSE)"
   ]
  },
  {
   "cell_type": "markdown",
   "metadata": {},
   "source": [
    "# Problema 1"
   ]
  },
  {
   "cell_type": "markdown",
   "metadata": {},
   "source": [
    "Imprima el valor del campo `ssn` (uno por línea) para los registros 2, 6 y 8 del archivo `employee`."
   ]
  },
  {
   "cell_type": "code",
   "execution_count": null,
   "metadata": {
    "collapsed": false
   },
   "outputs": [],
   "source": []
  },
  {
   "cell_type": "markdown",
   "metadata": {},
   "source": [
    "# Problema 2"
   ]
  },
  {
   "cell_type": "markdown",
   "metadata": {},
   "source": [
    "Imprima el total de registros (uno por línea) para los archivos `employee`, `product` y `orderdetail`."
   ]
  },
  {
   "cell_type": "code",
   "execution_count": null,
   "metadata": {
    "collapsed": false
   },
   "outputs": [],
   "source": [
    "#\n# escriba su codigo aqui\n#"
   ]
  },
  {
   "cell_type": "markdown",
   "metadata": {},
   "source": [
    "# Problema 3"
   ]
  },
  {
   "cell_type": "markdown",
   "metadata": {},
   "source": [
    "Escriba una función `f` que reciba el nombre de un departamento y cuente cuantos registros hay para dicho departamento en el archivo `employee`. "
   ]
  },
  {
   "cell_type": "code",
   "execution_count": null,
   "metadata": {
    "collapsed": false
   },
   "outputs": [],
   "source": [
    "f <- function(departamento) {\n    #\n    # escriba su codigo aqui\n    #\n}"
   ]
  },
  {
   "cell_type": "code",
   "execution_count": null,
   "metadata": {
    "collapsed": false
   },
   "outputs": [],
   "source": [
    "###__test__\nf(\"Accounting\")\nf(\"Advertising\")\nf(\"Asset Management\")\nf(\"Media Relations\")\nf(\"Sales and Marketing\")"
   ]
  },
  {
   "cell_type": "markdown",
   "metadata": {},
   "source": [
    "# Problema 4"
   ]
  },
  {
   "cell_type": "markdown",
   "metadata": {},
   "source": [
    "Imprima una tabla con la cantidad de empleados nacidos por año, ordenada por año y un año por línea. Use un espacio en blanco para separar el año y la cantidad de personas; por ejemplo, '1969 2'. "
   ]
  },
  {
   "cell_type": "code",
   "execution_count": null,
   "metadata": {
    "collapsed": false,
    "scrolled": false
   },
   "outputs": [],
   "source": [
    "#\n# escriba su codigo aqui\n#"
   ]
  },
  {
   "cell_type": "markdown",
   "metadata": {},
   "source": [
    "# Problema 5"
   ]
  },
  {
   "cell_type": "markdown",
   "metadata": {},
   "source": [
    "Imprima una lista con las ciudades del archivo `employee` ordenadas alfabéticamente y sin repetir ciudad. Imprima una ciudad por renglón. "
   ]
  },
  {
   "cell_type": "code",
   "execution_count": null,
   "metadata": {
    "collapsed": false
   },
   "outputs": [],
   "source": [
    "#\n# escriba su codigo aqui\n#"
   ]
  },
  {
   "cell_type": "markdown",
   "metadata": {},
   "source": [
    "# Problema 6"
   ]
  },
  {
   "cell_type": "markdown",
   "metadata": {},
   "source": [
    "Imprima una lista con las ciudades del archivo `employee` ordenadas alfabéticamente indicando cuántas veces aparece cada ciudad en el archivo. Imprima una ciudad por renglón. Separe la ciudad y la cantidad por un espacio en blanco; por ejemplo: 'BELLEFONTE 3'."
   ]
  },
  {
   "cell_type": "code",
   "execution_count": null,
   "metadata": {
    "collapsed": false,
    "scrolled": true
   },
   "outputs": [],
   "source": [
    "#\n# escriba su codigo aqui\n#"
   ]
  },
  {
   "cell_type": "markdown",
   "metadata": {},
   "source": [
    "# Problema 7"
   ]
  },
  {
   "cell_type": "markdown",
   "metadata": {},
   "source": [
    "Imprima, por cada ciudad diferente del archivo `employee`, cuántos registros quedan si se eliminan todos los registros que contienen dicha ciudad. Imprima la lista ordenada alfabéticamente. Separe la ciudad y la cantidad usando un espacio en blanco; por ejemplo: `'BELLEFONTE 47'`."
   ]
  },
  {
   "cell_type": "code",
   "execution_count": null,
   "metadata": {
    "collapsed": false
   },
   "outputs": [],
   "source": [
    "#\n# escriba su codigo aqui\n#"
   ]
  },
  {
   "cell_type": "markdown",
   "metadata": {},
   "source": [
    "# Problema 8"
   ]
  },
  {
   "cell_type": "markdown",
   "metadata": {},
   "source": [
    "Escriba una función que reciba el nombre completo de un hijo (campo `fullname` del archivo `family`), y devuelva el primer nombre (`fullname`) del padre. "
   ]
  },
  {
   "cell_type": "code",
   "execution_count": null,
   "metadata": {
    "collapsed": true
   },
   "outputs": [],
   "source": [
    "f <- function(fullname) {\n    #\n    # escriba su codigo aqui\n    #\n}"
   ]
  },
  {
   "cell_type": "code",
   "execution_count": null,
   "metadata": {
    "collapsed": false
   },
   "outputs": [],
   "source": [
    "###__test__\ncat(f('Jean Bailey'),    '\\n')\ncat(f('Berneice Neil'),  '\\n')\ncat(f('Mammie Montano'), '\\n')\ncat(f('Nettie Beasley'), '\\n')"
   ]
  },
  {
   "cell_type": "markdown",
   "metadata": {},
   "source": [
    "# Problema 9"
   ]
  },
  {
   "cell_type": "markdown",
   "metadata": {},
   "source": [
    "Escriba una función que reciba el número de orden (`order.id`) y devuelva el nombre completo (`fullname`) del empleado que la atendio."
   ]
  },
  {
   "cell_type": "code",
   "execution_count": null,
   "metadata": {
    "collapsed": true
   },
   "outputs": [],
   "source": [
    "f <- function(orderid){\n    #\n    # escriba su codigo aqui\n    #\n}"
   ]
  },
  {
   "cell_type": "code",
   "execution_count": null,
   "metadata": {
    "collapsed": false
   },
   "outputs": [],
   "source": [
    "###__test__\ncat(f(309), '\\n')\ncat(f(653), '\\n')\ncat(f(996), '\\n')"
   ]
  },
  {
   "cell_type": "markdown",
   "metadata": {},
   "source": [
    "# Problema 10"
   ]
  },
  {
   "cell_type": "markdown",
   "metadata": {},
   "source": [
    "Escriba una función que reciba el número de orden (`order.id`) y devuelva el nombre completo (`fullname`) del cliente que la solicitó."
   ]
  },
  {
   "cell_type": "code",
   "execution_count": null,
   "metadata": {
    "collapsed": true
   },
   "outputs": [],
   "source": [
    "f <- function(orderid){\n    #\n    # escriba su codigo aqui\n    #\n}"
   ]
  },
  {
   "cell_type": "code",
   "execution_count": null,
   "metadata": {
    "collapsed": false
   },
   "outputs": [],
   "source": [
    "###__test__\ncat(f(309), '\\n')\ncat(f(653), '\\n')\ncat(f(996), '\\n')"
   ]
  },
  {
   "cell_type": "markdown",
   "metadata": {},
   "source": [
    "# Problema 11"
   ]
  },
  {
   "cell_type": "markdown",
   "metadata": {},
   "source": [
    "Escriba una función que reciba el nombre de un empleado (`fullname`) y retorne la cantidad de órdenes atendidas por él."
   ]
  },
  {
   "cell_type": "code",
   "execution_count": null,
   "metadata": {
    "collapsed": true
   },
   "outputs": [],
   "source": [
    "f <- function(fullname){\n    #\n    # escriba su codigo aqui\n    #\n}"
   ]
  },
  {
   "cell_type": "code",
   "execution_count": null,
   "metadata": {
    "collapsed": false
   },
   "outputs": [],
   "source": [
    "###__test__\ncat(f('Christy Petry'), '\\n')\ncat(f('Gisela Strong'), '\\n')\ncat(f('Ellis Ervin')  , '\\n')"
   ]
  },
  {
   "cell_type": "markdown",
   "metadata": {},
   "source": [
    "# Problema 12"
   ]
  },
  {
   "cell_type": "markdown",
   "metadata": {},
   "source": [
    "Escriba una función que reciba el nombre de un empleado y retorne el valor mínino del campo `order.id` del total de ordenes que atendió. "
   ]
  },
  {
   "cell_type": "code",
   "execution_count": null,
   "metadata": {
    "collapsed": true
   },
   "outputs": [],
   "source": [
    "f <- function(fullname){\n    #\n    # escriba su codigo aqui\n    #\n}"
   ]
  },
  {
   "cell_type": "code",
   "execution_count": null,
   "metadata": {
    "collapsed": false
   },
   "outputs": [],
   "source": [
    "###__test__\ncat(f('Christy Petry'), '\\n')\ncat(f('Gisela Strong'), '\\n')\ncat(f('Ellis Ervin')  , '\\n')"
   ]
  },
  {
   "cell_type": "markdown",
   "metadata": {},
   "source": [
    "# Problema 13"
   ]
  },
  {
   "cell_type": "markdown",
   "metadata": {},
   "source": [
    "Escriba una función que reciba el `order.id` de una orden y retorne el cálculo del valor total de la orden."
   ]
  },
  {
   "cell_type": "code",
   "execution_count": null,
   "metadata": {
    "collapsed": true
   },
   "outputs": [],
   "source": [
    "f <- function(orderid) {\n    #\n    # escriba su codigo aqui\n    #\n}"
   ]
  },
  {
   "cell_type": "code",
   "execution_count": null,
   "metadata": {
    "collapsed": false
   },
   "outputs": [],
   "source": [
    "###__test__\ncat(f(1), '\\n')\ncat(f(2), '\\n')\ncat(f(3), '\\n')"
   ]
  },
  {
   "cell_type": "markdown",
   "metadata": {},
   "source": [
    "# Problema 14"
   ]
  },
  {
   "cell_type": "markdown",
   "metadata": {},
   "source": [
    "Imprima la cantidad de empleados que nacieron en cada uno de los trimestres (`Q1`, `Q2`, `Q3`, `Q4`) del año. Imprima un trimestre por reglón, separando las cantidades por un espacio en blanco. Por ejemplo: `'Q1 18'`. "
   ]
  },
  {
   "cell_type": "code",
   "execution_count": null,
   "metadata": {
    "collapsed": false
   },
   "outputs": [],
   "source": [
    "#\n# escriba su codigo aqui\n#"
   ]
  },
  {
   "cell_type": "markdown",
   "metadata": {},
   "source": [
    "# Problema 15"
   ]
  },
  {
   "cell_type": "markdown",
   "metadata": {},
   "source": [
    "Escriba una función que reciba un grupo de cuatro dígitos e imprima la cantidad de veces que aparece dicho número en el segundo grupo de dígitos de todos los números telefónicos."
   ]
  },
  {
   "cell_type": "code",
   "execution_count": null,
   "metadata": {
    "collapsed": true
   },
   "outputs": [],
   "source": [
    "f <- function(num) {\n    #\n    # escriba su codigo aqui\n    #\n}"
   ]
  },
  {
   "cell_type": "code",
   "execution_count": null,
   "metadata": {
    "collapsed": false
   },
   "outputs": [],
   "source": [
    "###__test__\ncat(f('1289'), '\\n')\ncat(f('2345'), '\\n')\ncat(f('4876'), '\\n')"
   ]
  },
  {
   "cell_type": "markdown",
   "metadata": {},
   "source": [
    "---"
   ]
  }
 ],
 "metadata": {
  "kernelspec": {
   "display_name": "R",
   "language": "R",
   "name": "ir"
  },
  "language_info": {
   "codemirror_mode": "r",
   "file_extension": ".r",
   "mimetype": "text/x-r-source",
   "name": "R",
   "pygments_lexer": "r",
   "version": "3.3.0"
  }
 },
 "nbformat": 4,
 "nbformat_minor": 0
}
